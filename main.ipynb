{
 "cells": [
  {
   "cell_type": "markdown",
   "id": "83f74672-0fef-424e-b359-3cd2f6289490",
   "metadata": {},
   "source": [
    "# Real Estate Transactions Exploratory Data Analysis"
   ]
  },
  {
   "cell_type": "markdown",
   "id": "75d0eaa7-b7ca-4076-8a64-ef042fa892e1",
   "metadata": {},
   "source": [
    "## Environment Management"
   ]
  },
  {
   "cell_type": "markdown",
   "id": "24661b23-66ca-4467-8fa2-a32793525462",
   "metadata": {},
   "source": [
    "Please read the project's README for instructions on how to set up the project's environment on your computer. "
   ]
  },
  {
   "cell_type": "code",
   "execution_count": null,
   "id": "5690ea5b-17e1-439f-b907-896aba12b941",
   "metadata": {},
   "outputs": [],
   "source": [
    "# Make sure Jupiter runs at the correct environment to avoid conflicts:\n",
    "import sys\n",
    "sys.executable"
   ]
  },
  {
   "cell_type": "markdown",
   "id": "060ec15c-2bdd-462e-b444-79a114745a23",
   "metadata": {},
   "source": [
    "## Import Libraries"
   ]
  },
  {
   "cell_type": "code",
   "execution_count": null,
   "id": "81e4a77a-f2a9-4eb6-a9a1-1d71c934ec4f",
   "metadata": {},
   "outputs": [],
   "source": [
    "import numpy as np  # For numerical operations and arrays.\t\n",
    "import pandas as pd  # For data manipulation and analysis.\t\n",
    "import matplotlib.pyplot as plt  # For basic plotting.\t\n",
    "import seaborn as sns  # For enhanced plotting.\t"
   ]
  },
  {
   "cell_type": "markdown",
   "id": "294e26f2-72ce-4ed2-bef1-70e39ede7740",
   "metadata": {},
   "source": [
    "## Data Cleaning"
   ]
  },
  {
   "cell_type": "code",
   "execution_count": null,
   "id": "6319f2c5-e17e-4980-9ce5-9d239d7ec5a8",
   "metadata": {},
   "outputs": [],
   "source": [
    "# Import the excel file skipping the first 3 rows containing irrelevant information:\n",
    "data = pd.read_excel(\"Original.xlsx\", skiprows=3)"
   ]
  },
  {
   "cell_type": "code",
   "execution_count": null,
   "id": "15f7d76b-57e9-4a9b-8570-bc47f7825bc5",
   "metadata": {},
   "outputs": [],
   "source": [
    "data.head(10)"
   ]
  },
  {
   "cell_type": "code",
   "execution_count": null,
   "id": "5d0032a2-337f-48f8-be88-8504b5bae2d3",
   "metadata": {},
   "outputs": [],
   "source": [
    "# Fix the column names:\n",
    "data.columns = data.iloc[0]"
   ]
  },
  {
   "cell_type": "code",
   "execution_count": null,
   "id": "c8934da5-2229-49e0-8bd8-693749c8b2f9",
   "metadata": {},
   "outputs": [],
   "source": [
    "# Investigate:\n",
    "print(data.info())\n",
    "data.head(10)"
   ]
  },
  {
   "cell_type": "raw",
   "id": "4a72d81b-cd3b-4cbc-a0b5-10f27388fb6a",
   "metadata": {},
   "source": [
    "The previous cell contains two 'nan' columns that are unexpected."
   ]
  },
  {
   "cell_type": "code",
   "execution_count": null,
   "id": "c2de67ec-e59e-4b64-8d87-340a909fc1ad",
   "metadata": {},
   "outputs": [],
   "source": [
    "# Drop the first row and any columns containing only NaN values.\n",
    "data = data.iloc[1:].dropna(axis=1, how=\"all\")"
   ]
  },
  {
   "cell_type": "code",
   "execution_count": null,
   "id": "911cb116-bf9e-437a-bee3-5d90cd2fd81a",
   "metadata": {},
   "outputs": [],
   "source": [
    "# Investigate further:\n",
    "data.info()"
   ]
  },
  {
   "cell_type": "code",
   "execution_count": null,
   "id": "6b22b7d3-a278-488c-bd31-675246560aea",
   "metadata": {},
   "outputs": [],
   "source": [
    "# Drop the second 'nan' column and reset the index:\n",
    "data = data.dropna(axis=1, thresh=2).reset_index(drop=True)"
   ]
  },
  {
   "cell_type": "code",
   "execution_count": null,
   "id": "dc2e94ff-bb35-4d7b-a197-03e97f8dd1b7",
   "metadata": {},
   "outputs": [],
   "source": [
    "# The final column number should be 25:\n",
    "print(data.info())\n",
    "data.head(10)"
   ]
  },
  {
   "cell_type": "markdown",
   "id": "939a877d-60b6-45fe-b23c-4c032d327ae4",
   "metadata": {},
   "source": [
    "The data preparation is completed allowing to proceed with further analysis."
   ]
  },
  {
   "cell_type": "code",
   "execution_count": null,
   "id": "cf6a0f27-102d-4770-b6d3-e0a9cc98bbee",
   "metadata": {},
   "outputs": [],
   "source": [
    "print(\"ID Column Categories:\", len(data[\"ID\"].value_counts()), \"ID Column NaN Values:\", data[\"ID\"].isna().any(), \n",
    "     \"Customer ID Column Categories:\", len(data[\"Customer ID\"].value_counts()), \"Customer ID Column NaN Values:\", data[\"Customer ID\"].isna().any(),\n",
    "     \"Property Column Categories:\", len(data[\"Property #\"].value_counts()), \"Property # Column NaN Values:\", data[\"Property #\"].isna().any())"
   ]
  },
  {
   "cell_type": "markdown",
   "id": "ef82c741-019f-4762-90db-2af16223ba91",
   "metadata": {},
   "source": [
    "The columns \"ID\", \"Customer ID\", and \"Property #\" appear to have high cardinality and may not be unique identifiers based on the available data. It's difficult to completely determine their purpose without additional context. However, \"ID\" likely represents a sale ID, while \"Customer ID\" clearly indicates customer identification. The meaning of \"Property #\" remains unclear."
   ]
  },
  {
   "cell_type": "code",
   "execution_count": null,
   "id": "1142eadc-402a-4f1b-9b66-cccca5daaa61",
   "metadata": {},
   "outputs": [],
   "source": [
    "# Check the duplicate IDs information:\n",
    "duplicate_id = data[\"ID\"].value_counts()[lambda x: x > 1].index\n",
    "duplicate_id_indices = data[data[\"ID\"].isin(duplicate_id)].index\n",
    "data.loc[duplicate_id_indices].sort_values(\"ID\")"
   ]
  },
  {
   "cell_type": "markdown",
   "id": "e0150024-1e83-474d-a859-50301cc07481",
   "metadata": {},
   "source": [
    "A significant number of missing values make it difficult to draw conclusions from the data. There are a lot of missing values which do not allow for comparisons. The ID column probably represents a sale ID because of the information of 1009 ID, which suggests there are two different houses sold at the same date. In addition, the property number as well as the area of the houses are different which suggests the same thing."
   ]
  },
  {
   "cell_type": "code",
   "execution_count": null,
   "id": "f6662705-f80a-4ae2-858f-e6e5433871cb",
   "metadata": {},
   "outputs": [],
   "source": [
    "# Change dtype in order for the code below to work:\n",
    "data[\"Property #\"] = data[\"Property #\"].astype(int)\n",
    "\n",
    "# Check the duplicate 'Property #' column's information:\n",
    "duplicate_property = data[\"Property #\"].value_counts()[lambda x: x > 1].index\n",
    "duplicate_property_indices = data[data[\"Property #\"].isin(duplicate_property)].index\n",
    "data.loc[duplicate_property_indices].sort_values(\"Property #\").head(13)"
   ]
  },
  {
   "cell_type": "markdown",
   "id": "84285479-0c95-44b4-a2dd-dd7708b30007",
   "metadata": {},
   "source": [
    "The above cell of code doesn't help neither. The results show unambiguity. Let's proceed to another part of the data table."
   ]
  },
  {
   "cell_type": "code",
   "execution_count": null,
   "id": "5daf115f-3cd5-426a-9292-6f6e80e5453b",
   "metadata": {},
   "outputs": [],
   "source": [
    "print(\"Column NaN values:\", data[\"Building\"].isna().any())\n",
    "data[\"Building\"].value_counts()"
   ]
  },
  {
   "cell_type": "markdown",
   "id": "f331a412-d3e5-4e9f-8b32-845f91a7c022",
   "metadata": {},
   "source": [
    "This is a categorical column that divides the buildings into distinct categories and has no missing values (NaN). The data.info() output reveals that these categories are not related to the \"Type of property\" column. They represent a different categorical classification and their integer type likely has no physical meaning. Since they represent categories, categorical data types are generally more memory-efficient than both object and integer types. Let's create a simple function to demonstrate this."
   ]
  },
  {
   "cell_type": "code",
   "execution_count": null,
   "id": "068cfa2f-3c5a-417f-84c2-4cee317f0004",
   "metadata": {},
   "outputs": [],
   "source": [
    "def memory_calculation(table):\n",
    "    memory = data.memory_usage().sum()\n",
    "    print(f\"Total Memory: {memory} bytes\")\n",
    "memory_calculation(table=data)"
   ]
  },
  {
   "cell_type": "code",
   "execution_count": null,
   "id": "3bcd60ce-ac0e-49ae-a010-7f5a3aca98fa",
   "metadata": {},
   "outputs": [],
   "source": [
    "# Fix the type of the column and recheck the memory:\n",
    "data[\"Building\"] = data[\"Building\"].astype(\"category\")\n",
    "memory_calculation(table=data)"
   ]
  },
  {
   "cell_type": "markdown",
   "id": "62694bfc-b884-4c44-84a1-47accd8bc9d3",
   "metadata": {},
   "source": [
    "These cells were created only for testing purposes. The dtypes will be changed again later on this project."
   ]
  },
  {
   "cell_type": "code",
   "execution_count": null,
   "id": "3998a7f0-0b38-4071-8015-26cdffc2f171",
   "metadata": {},
   "outputs": [],
   "source": [
    "# Make some checks on some other columns:\n",
    "print(\"'Year of sale' Non NaN Values:\", data[\"Year of sale\"].value_counts().sum(), \n",
    "      \"'Month of sale' Non NaN Values:\", data[\"Month of sale\"].value_counts().sum())\n",
    "print(data[\"Year of sale\"].value_counts(), data[\"Month of sale\"].value_counts())"
   ]
  },
  {
   "cell_type": "code",
   "execution_count": null,
   "id": "b075d844-4bf0-4687-b7ae-1515962a43f6",
   "metadata": {},
   "outputs": [],
   "source": [
    "# Make some further checks:\n",
    "print(\"'Type of property' Non NaN Values:\", data[\"Type of property\"].value_counts().sum())\n",
    "data[\"Type of property\"].value_counts()"
   ]
  },
  {
   "cell_type": "code",
   "execution_count": null,
   "id": "864cd8fc-5b9c-49e1-91ca-76ee703549c1",
   "metadata": {},
   "outputs": [],
   "source": [
    "print(\"'Area (ft.)' Non NaN Values:\", data[\"Area (ft.)\"].value_counts().sum())"
   ]
  },
  {
   "cell_type": "markdown",
   "id": "192f5ccf-749d-42a6-a73f-6a73d21a5860",
   "metadata": {},
   "source": [
    "The units of this column are in square feets. It isn't recommended to transform them, however, we will do this for practise purposes. Let's try displaying this column in square meters meeting the SI measurement system standards."
   ]
  },
  {
   "cell_type": "code",
   "execution_count": null,
   "id": "757df93c-1c2d-4abd-bb5c-352cfcd84cd9",
   "metadata": {},
   "outputs": [],
   "source": [
    "# Change the dtype of 'Area (ft.)': \n",
    "data[\"Area (ft.)\"] = data[\"Area (ft.)\"].astype(\"int\")"
   ]
  },
  {
   "cell_type": "code",
   "execution_count": null,
   "id": "e0fe0ff2-a309-4a2a-afeb-87a9ae4267de",
   "metadata": {},
   "outputs": [],
   "source": [
    "# Transform the units knowing that 1 sq feet equals 0.09290304\n",
    "factor = 0.09290304\n",
    "\n",
    "# Check the square feet mean for verification reasons:\n",
    "mean_sq_feet = data[\"Area (ft.)\"].mean().round(2)\n",
    "print(\"Expected Square Meter Mean:\", round(mean_sq_feet * factor, 2))\n",
    "\n",
    "# Transform into square meters and check the result:\n",
    "data[\"Area (ft.)\"] = data[\"Area (ft.)\"] * factor\n",
    "mean_sq_meter = data[\"Area (ft.)\"].mean().round(2)\n",
    "print(\"Actual Square Meter Mean:\", round(mean_sq_meter, 2))"
   ]
  },
  {
   "cell_type": "code",
   "execution_count": null,
   "id": "2b249ba7-2167-4b24-9ab2-a22cf5ad4b57",
   "metadata": {},
   "outputs": [],
   "source": [
    "data[\"Area (mt.)\"] = data[\"Area (ft.)\"]\n",
    "data = data.drop(columns=\"Area (ft.)\")\n",
    "data.info()"
   ]
  },
  {
   "cell_type": "markdown",
   "id": "97ca7383-d49c-4b71-ab69-5af7533798cc",
   "metadata": {},
   "source": [
    "### Missing Values"
   ]
  },
  {
   "cell_type": "code",
   "execution_count": null,
   "id": "1403bd36-c3d5-4435-b339-ec4f91a46f20",
   "metadata": {},
   "outputs": [],
   "source": [
    "data.info()"
   ]
  },
  {
   "cell_type": "markdown",
   "id": "a1bffca8-4f11-4847-a694-9e3c556729a9",
   "metadata": {},
   "source": [
    "19 out of 25 categories have missing values. This is the 76% of the columns. Since there isn't any more information about the data and domain expertise and since this project was created for practise reasons, we will drop some rows to see if the missing values are concentrated at the same rows. "
   ]
  },
  {
   "cell_type": "code",
   "execution_count": null,
   "id": "3b4d98f2-5cfa-4d01-b9f1-d4effe78f9f4",
   "metadata": {},
   "outputs": [],
   "source": [
    "# Drop the minimum number of rows and see what happens:\n",
    "data = data.dropna(subset=[\"Year of sale\"])"
   ]
  },
  {
   "cell_type": "code",
   "execution_count": null,
   "id": "6f9ade3d-9f25-4562-971e-49c6c952a512",
   "metadata": {},
   "outputs": [],
   "source": [
    "data.info()"
   ]
  },
  {
   "cell_type": "markdown",
   "id": "af23fa48-70bf-4939-820b-15e7b77ae6bf",
   "metadata": {},
   "source": [
    "This is interesting and it means that the 72 dropped observations had missing values at 76% of their columns. Let's see what happens with the remaining missing values."
   ]
  },
  {
   "cell_type": "code",
   "execution_count": null,
   "id": "de7505f6-704d-49a4-a66e-e285581256ca",
   "metadata": {},
   "outputs": [],
   "source": [
    "# Identify rows with missing values and create a DataFrame containing only these rows: \n",
    "data_missing = data[data.isna().any(axis=1)]\n",
    "\n",
    "# Make pandas show the initially collapsed columns:\n",
    "pd.set_option(\"display.max_columns\", 25)\n",
    "\n",
    "data_missing"
   ]
  },
  {
   "cell_type": "markdown",
   "id": "971bec3d-c4c3-4340-a160-c88387b17cbd",
   "metadata": {},
   "source": [
    "The missing values of column 'State' are missing because of the buyers foreign origin. There are no US states at foreign countries. Therefore, the missing values here means that there is no state to be provided."
   ]
  },
  {
   "cell_type": "code",
   "execution_count": null,
   "id": "65c96a5b-59c5-4893-bf12-1a88a40d6cb9",
   "metadata": {},
   "outputs": [],
   "source": [
    "# Fix the 'State' column's missing values:\n",
    "data[\"State\"] = data[\"State\"].fillna(\"No State\")\n",
    "data.info()"
   ]
  },
  {
   "cell_type": "markdown",
   "id": "86e8d86a-841c-4101-bebe-8ac1e9532067",
   "metadata": {},
   "source": [
    "This is great! There are still 6 columns remaining with missing values and all these values are included at the same 17 observations. Let's check if there is a pattern between the remaining missing values."
   ]
  },
  {
   "cell_type": "code",
   "execution_count": null,
   "id": "d35d07fc-b1f7-4263-b105-004a88392d3b",
   "metadata": {},
   "outputs": [],
   "source": [
    "# Identify rows with missing values and create a DataFrame containing only these rows: \n",
    "data_missing = data[data.isna().any(axis=1)]\n",
    "data_missing"
   ]
  },
  {
   "cell_type": "markdown",
   "id": "210d4ae9-f12e-46b4-b306-e962bff83c2b",
   "metadata": {},
   "source": [
    "There is a pattern in missing values related to the 'Entity' column. Both the age of the person who makes the purchase and the gender don't matter since the person represents a firm and not a human."
   ]
  },
  {
   "cell_type": "code",
   "execution_count": null,
   "id": "140ba849-bac7-4c4e-889b-9475fb5b225d",
   "metadata": {},
   "outputs": [],
   "source": [
    "data[\"Entity\"].value_counts()"
   ]
  },
  {
   "cell_type": "markdown",
   "id": "40f4a569-852b-4a20-9ec3-b96c92671eaa",
   "metadata": {},
   "source": [
    "Therefore, all 17 observations which include missing values are firms and not individuals. However, the lack of information about the year of construction is a limitation. The final conclusion doesn't consistute a problem if we want to check some individual related patterns. Dropping these 17 observations means we will end up with 178 purchases which made by individuals which is not bad at all depending on our purposes."
   ]
  },
  {
   "cell_type": "code",
   "execution_count": null,
   "id": "e2707184-d5f7-4fab-8e42-2f94f4996d25",
   "metadata": {},
   "outputs": [],
   "source": [
    "# Drop the firm purchases from the original data set:\n",
    "data = data.dropna()\n",
    "data.info()"
   ]
  },
  {
   "cell_type": "markdown",
   "id": "54feaf32-fdf0-41ab-a9b3-093de79bcd5e",
   "metadata": {},
   "source": [
    "Let's get rid of some columns. For example, the \"Type of property\" column includes only two offices, whereas the rest of the observations are apartment-related. Assuming we want to focus on houses, let's remove observations where the \"Type of property\" is \"office.\" Subsequently, we can consider dropping low cardinality columns (with few unique values) that might not be informative for our analysis. This helps reduce dimensionality and simplify the data set.\n",
    "\n",
    "Since this is a project for practice reasons and assuming the data table won't be needed for merging, and also assuming there is no need for customer analysis, we can further simplify the data by dropping high cardinality columns (with many unique values).\n",
    "\n",
    "In addition, there are three columns that seem redundant and hence highly correlated: \"building's age at the time of purchase,\" \"building's year of construction,\" and \"building's age intervals.\" Knowing the year the building sold, either building's age or building's year of construction is sufficient. We can drop one of these. Consequently, the \"month\" and \"day\" of construction are also be unnecessary."
   ]
  },
  {
   "cell_type": "code",
   "execution_count": null,
   "id": "85625b2f-5296-4e4b-a76f-a1464a46c162",
   "metadata": {},
   "outputs": [],
   "source": [
    "# Find the office observations:\n",
    "office_index = data.loc[data[\"Type of property\"] == \"Office\"].index\n",
    "\n",
    "# And drop them from the data table:\n",
    "data = data.drop(office_index, axis=0)\n",
    "\n",
    "# Drop the low cardinality columns:\n",
    "data = data.drop(columns=[\"Type of property\", \"Entity\", \"Status\"])\n",
    "\n",
    "# Drop the high cardinality columns:\n",
    "data = data.drop(columns=[\"ID\", \"Property #\", \"Customer ID\", \"Name\", \"Surname\"])\n",
    "\n",
    "# Drop the redundant columns, both the \"Interval\" and the \"Age at time of purchase\" columns will be kept:\n",
    "data = data.drop(columns=[\"Y\", \"M\", \"D\"])\n",
    "\n",
    "data.info()"
   ]
  },
  {
   "cell_type": "markdown",
   "id": "3a1667e6-91d2-4b6f-a730-24785a8362f3",
   "metadata": {},
   "source": [
    "Let's check the dtypes of the columns."
   ]
  },
  {
   "cell_type": "code",
   "execution_count": null,
   "id": "e5c0544e-160b-4a6a-abac-627b6c03e4a5",
   "metadata": {},
   "outputs": [],
   "source": [
    "data[\"Price\"] = data[\"Price\"].astype(\"float\")\n",
    "data[[\"Age at time of purchase\", \"Year of sale\", \"Month of sale\"]] = data[\n",
    "[\"Age at time of purchase\", \"Year of sale\", \"Month of sale\"]\n",
    "].astype(\"int\")\n",
    "data[\"Building\"] = data[\"Building\"].astype(\"str\")\n",
    "data.info()"
   ]
  },
  {
   "cell_type": "code",
   "execution_count": null,
   "id": "bab33055-431a-4051-8d3b-9ca1cb84a557",
   "metadata": {},
   "outputs": [],
   "source": [
    "# Change \"Age at time of purchse\" column's name to make its meaning more clear:\n",
    "data[\"Building age at time of purchase\"] = data[\"Age at time of purchase\"]\n",
    "data = data.drop(columns=\"Age at time of purchase\")\n",
    "data.info()"
   ]
  },
  {
   "cell_type": "markdown",
   "id": "9eea8dac-944d-4633-9e8e-5d377c15f381",
   "metadata": {},
   "source": [
    "And this is the final df."
   ]
  },
  {
   "cell_type": "markdown",
   "id": "6af7736e-f111-4cee-b723-0d692c5465b2",
   "metadata": {},
   "source": [
    "## Exploratory Data Analysis"
   ]
  },
  {
   "cell_type": "code",
   "execution_count": null,
   "id": "6e08b652-958d-4b51-b16e-5c7e2d7f5f91",
   "metadata": {},
   "outputs": [],
   "source": [
    "# Manipulate the data:\n",
    "bar_data = data[\"Interval\"].value_counts()\n",
    "bar_data_sorted = bar_data.index.sort_values()\n",
    "\n",
    "# Create the bar chart:\n",
    "plt.bar(bar_data_sorted, bar_data[bar_data_sorted])\n",
    "\n",
    "# Customize bar chart:\n",
    "plt.xlabel(\"Building's Age Intervals\")\n",
    "plt.ylabel(\"Frequency\")\n",
    "plt.title(\"Building's Age Intervals Bar Chart\");\n",
    "\n",
    "plt.savefig('barplot.png')"
   ]
  },
  {
   "cell_type": "markdown",
   "id": "2e4bb5f7-000c-4930-906a-7990fd5ab654",
   "metadata": {},
   "source": [
    "The distribution is spread out, with a longer tail towards the older age buildings (right skew). This suggests there's a larger variation in offers of older buildings. "
   ]
  },
  {
   "cell_type": "code",
   "execution_count": null,
   "id": "9c970278-740b-4869-90d2-6ef31e3dcaf8",
   "metadata": {},
   "outputs": [],
   "source": [
    "data[\"Building age at time of purchase\"].describe()"
   ]
  },
  {
   "cell_type": "code",
   "execution_count": null,
   "id": "71998afd-b332-4c53-896f-c20a03ee54d7",
   "metadata": {},
   "outputs": [],
   "source": [
    "# Create the histogram:\n",
    "plt.hist(data[\"Building age at time of purchase\"], edgecolor=\"black\", bins=10)\n",
    "\n",
    "# Create axis labels and title:\n",
    "plt.xlabel(\"Building's Age\")\n",
    "plt.ylabel(\"Frequency\")\n",
    "plt.title(\"Distribution of the Building's Age at Time of Purchase\")\n",
    "\n",
    "# Customize the appearence of the x axis: \n",
    "custom_xticks = range(15, 80, 5)\n",
    "bins = range(15, 80, 5)\n",
    "plt.xticks(ticks=bins, labels=custom_xticks);\n",
    "\n",
    "plt.savefig('histplot.png')"
   ]
  },
  {
   "cell_type": "markdown",
   "id": "c3661ad8-8ff3-42d3-98be-4392a760f3be",
   "metadata": {},
   "source": [
    "The histogram confirms a right-skewed distribution, with most buildings been more recent. The interquartile range (IQR) is 55 - 37 = 18 years. This means that the middle 50% age of the buildings were between 37 and 55 years old. The mean is greater than the median which is also expected since there is a positive skewness."
   ]
  },
  {
   "cell_type": "code",
   "execution_count": null,
   "id": "0bf60988-0b05-46e8-9cb5-b69f4a99f5b9",
   "metadata": {},
   "outputs": [],
   "source": [
    "# Create a boxplot:\n",
    "plt.boxplot(data[\"Building age at time of purchase\"], vert=False)\n",
    "plt.xlabel(\"Building's Age\")\n",
    "plt.title(\"Distribution of the Building's Age at Time of Purchase (Boxplot)\");\n",
    "\n",
    "plt.savefig('boxplot.png')"
   ]
  },
  {
   "cell_type": "markdown",
   "id": "d187922e-0511-4f61-a170-3c3079323611",
   "metadata": {},
   "source": [
    "The boxplot shows the same things have discussed already. It can be optically seen that the median is left-shifted indicating a right skew in the age distribution. The information about the IQR is not very clear. Knowing that the $IQR = 18$, this means that the outliers lie below the age of $37 - 1.5*IQR$, i.e., 10 years old and above the $Q3 + 1.5*IQR$, i.e., 82 years old. Therefore, there are no outliers inside this column. This is the reason the whiskers show the minimum and maximum osbervation age instead of the $1.5*IQR$ rule limits. The final conclusion is that the visualizations in conjunction with descriptive statistics can offer a more complete understanding."
   ]
  },
  {
   "cell_type": "code",
   "execution_count": null,
   "id": "a1d22767-710d-42e9-93f6-0a65d7d9932f",
   "metadata": {},
   "outputs": [],
   "source": [
    "data[\"Price\"].describe()"
   ]
  },
  {
   "cell_type": "code",
   "execution_count": null,
   "id": "6adfe7ef-5e3b-4c6d-9016-fb35574de2d0",
   "metadata": {},
   "outputs": [],
   "source": [
    "# Scale the price:\n",
    "price_scaled = data[\"Price\"] / 1000\n",
    "\n",
    "# Create the histogram:\n",
    "plt.hist(price_scaled, edgecolor=\"black\", bins=20)\n",
    "plt.xlabel(\"Price in $ (X1000)\")\n",
    "plt.ylabel(\"Frequency\")\n",
    "plt.title(\"Distribution of Price\")\n",
    "\n",
    "# Fix the appearence of the x axis: \n",
    "custom_xticks = range(125, 525, 25)\n",
    "bins = range(125, 525, 25)\n",
    "plt.xticks(ticks=bins, labels=custom_xticks, rotation=60);\n",
    "\n",
    "plt.savefig('histplot2.png')"
   ]
  },
  {
   "cell_type": "markdown",
   "id": "a2f737a1-844e-4949-84bd-36a3be47daf5",
   "metadata": {},
   "source": [
    "The histogram reveals a positive skew. This aligns with real-world expectations, where most buyers tend to choose more affordable options. Consequently, the market offers a wider range of economical choices to meet this demand."
   ]
  },
  {
   "cell_type": "code",
   "execution_count": null,
   "id": "596e3e9a-6563-4896-a1e7-58aef2cc017e",
   "metadata": {},
   "outputs": [],
   "source": [
    "cols_for_cor = data[[\"Price\", \"Building age at time of purchase\", \"Area (mt.)\"]]\n",
    "cols_for_cor.corr()"
   ]
  },
  {
   "cell_type": "code",
   "execution_count": null,
   "id": "cdfb5249-6efe-4245-b0d6-f3efa7cddc04",
   "metadata": {},
   "outputs": [],
   "source": [
    "# Create a scatterplot of Price VS Building age:\n",
    "sns.scatterplot(x=\"Price\", y=\"Building age at time of purchase\", data=data, hue=\"Gender\")\n",
    "\n",
    "# Customize the scatterplot:\n",
    "plt.xticks(rotation=45)\n",
    "plt.xlabel(\"Price\")\n",
    "plt.ylabel(\"Building's Age\")\n",
    "plt.title(\"Scatter Plot: Price vs. Building's Age\");\n",
    "\n",
    "plt.savefig('scatterplot.png')"
   ]
  },
  {
   "cell_type": "markdown",
   "id": "f9675434-e676-41b3-b329-bc54586579be",
   "metadata": {},
   "source": [
    "A negative correlation between the building's age and the price would expected. The scatter plot reveals what the corr() method has already revealed. There is a sligh negative correlation between the property's age and the price paid for the property."
   ]
  },
  {
   "cell_type": "code",
   "execution_count": null,
   "id": "466ee540-7587-414d-9b7a-2bb8f4c6cb3a",
   "metadata": {},
   "outputs": [],
   "source": [
    "# Create a scatterplot of Price VS Area:\n",
    "sns.scatterplot(x=\"Price\", y=\"Area (mt.)\", data=data, hue=\"Interval\") \n",
    "\n",
    "# Customize the scatterplot:\n",
    "plt.xticks(rotation=45)\n",
    "plt.xlabel(\"Price\")\n",
    "plt.ylabel(\"Area in Square Meters\")\n",
    "plt.title(\"Scatter Plot: Price vs. Area in Square Meters\")\n",
    "plt.legend(title=\"Age Intervals\");\n",
    "\n",
    "plt.savefig('scatterplot2.png')"
   ]
  },
  {
   "cell_type": "markdown",
   "id": "5d242ea4-f03e-4703-8423-f3c00c2973ee",
   "metadata": {},
   "source": [
    "This result is also as expected."
   ]
  },
  {
   "cell_type": "code",
   "execution_count": null,
   "id": "d2396095-cbe9-4eb5-ae0b-286f1f57ea7a",
   "metadata": {},
   "outputs": [],
   "source": [
    "# Save the data table for future use:\n",
    "data.to_csv(\"Real_Estate_Cleaned.csv\", index=False)"
   ]
  }
 ],
 "metadata": {
  "kernelspec": {
   "display_name": "Python 3 (ipykernel)",
   "language": "python",
   "name": "python3"
  },
  "language_info": {
   "codemirror_mode": {
    "name": "ipython",
    "version": 3
   },
   "file_extension": ".py",
   "mimetype": "text/x-python",
   "name": "python",
   "nbconvert_exporter": "python",
   "pygments_lexer": "ipython3",
   "version": "3.11.9"
  }
 },
 "nbformat": 4,
 "nbformat_minor": 5
}
